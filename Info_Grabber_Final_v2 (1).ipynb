{
 "cells": [
  {
   "cell_type": "code",
   "execution_count": 1,
   "metadata": {},
   "outputs": [],
   "source": [
    "#DIR represents the pathway I have set up for where I have the CSV files saved. You will need to change this AND the line below that starts with cd\n",
    "#Be careful with the direction of the \\\\. It matters\n",
    "#You will need to change this pathway to wherever you save your CSV files\n",
    "#To find this quickly you can right click on the folder, click Properties, then copy & paste the Location\n",
    "#You do NOT need to include C: in this part. Make sure that the location is between the 2 commas\n",
    "\n",
    "DIR='/Users/User/OneDrive/Desktop/Work/Spreadsheets'\n",
    "import numpy as np\n",
    "import pandas as pd"
   ]
  },
  {
   "cell_type": "code",
   "execution_count": 2,
   "metadata": {},
   "outputs": [],
   "source": [
    "#Replace /Comscore.csv with the name of the file you are trying to run. If it is called, World Bank List, then put, World Bank List.csv\n",
    "\n",
    "df = pd.read_csv(DIR+'/Comscore.csv',  usecols=['First Name', 'Last Name', 'Job Title', 'Direct Phone Number', 'Email Address', 'LinkedIn Contact Profile URL'])"
   ]
  },
  {
   "cell_type": "code",
   "execution_count": 3,
   "metadata": {},
   "outputs": [],
   "source": [
    "cols_to_order = ['First Name', 'Last Name']"
   ]
  },
  {
   "cell_type": "code",
   "execution_count": 4,
   "metadata": {},
   "outputs": [],
   "source": [
    "new_columns = cols_to_order + (df.columns.drop(cols_to_order).tolist())"
   ]
  },
  {
   "cell_type": "code",
   "execution_count": 5,
   "metadata": {},
   "outputs": [],
   "source": [
    "#You need to make sure that the pathway below matches the location of where you want the file to be saved. \n",
    "#If the save location is different than the DIR location up top right click the folder you want to save it to and copy everything after the C: \n",
    "#Make sure you use \\\\ and not // when copying the location. Your computer might get confused.\n",
    "#At the very end, where it says 'test5.csv', change that to w/e you want to call the final document.\n",
    "#Make sure to put .csv at the end so the program knows to save it as a .csv file\n",
    "\n",
    "df = df[new_columns].to_csv(r'\\Users\\User\\OneDrive\\Desktop\\Work\\Spreadsheets\\Parsed\\'test5.csv')"
   ]
  },
  {
   "cell_type": "code",
   "execution_count": null,
   "metadata": {},
   "outputs": [],
   "source": []
  }
 ],
 "metadata": {
  "kernelspec": {
   "display_name": "Python 3",
   "language": "python",
   "name": "python3"
  },
  "language_info": {
   "codemirror_mode": {
    "name": "ipython",
    "version": 3
   },
   "file_extension": ".py",
   "mimetype": "text/x-python",
   "name": "python",
   "nbconvert_exporter": "python",
   "pygments_lexer": "ipython3",
   "version": "3.8.3"
  }
 },
 "nbformat": 4,
 "nbformat_minor": 4
}
