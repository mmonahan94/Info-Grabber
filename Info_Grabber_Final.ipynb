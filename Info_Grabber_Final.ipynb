{
 "cells": [
  {
   "cell_type": "code",
   "execution_count": 6,
   "metadata": {},
   "outputs": [],
   "source": [
    "import numpy as np\n",
    "import pandas as pd"
   ]
  },
  {
   "cell_type": "code",
   "execution_count": 13,
   "metadata": {},
   "outputs": [
    {
     "name": "stdout",
     "output_type": "stream",
     "text": [
      "C:\\Users\\User\\OneDrive\\Desktop\\PY4E\\Side Projects\n"
     ]
    }
   ],
   "source": [
    "#This is the pathway I have set up for where I have the CSV files saved and where I want the Excel spreadsheet exported to. \n",
    "#In order to find this create a folder on your desktop where you plan to save things to.\n",
    "#From there right click it --> properties --> copy the location and paste it after the cd in the line below\n",
    "#E.G. cd C:\\Users\\Max\\Desktop\\Work Shit or w/e you name the folder.\n",
    "\n",
    "cd C:\\Users\\User\\OneDrive\\Desktop\\PY4E\\Side Projects"
   ]
  },
  {
   "cell_type": "code",
   "execution_count": 27,
   "metadata": {},
   "outputs": [],
   "source": [
    "#You will need to put in the name of the csv file below. I called mine \"Info_Spreadsheet.csv\". Replace that with w/e you have it named as.\n",
    "#Let's say you call the spreadsheet \"Contacts_July_23rd.csv\", that will replace \"Info_Spreadsheet.csv\" in the code below\n",
    "#The parameters next to the usecols line are the columns that the code will look for and spit back out.\n",
    "#If you want to add another column place a comma after the last parameter (in this case Contacts), then in ' ' add the EXACT name of the column.\n",
    "#E.G. if you wanted to add the 'Notes' column it would look like, usecols=['Company', 'Phone', 'Email', 'Website', 'Contacts', 'Notes'])\n",
    "\n",
    "info = pd.read_csv(\"Info_Spreadsheet.csv\", usecols=['Company', 'Phone', 'Email', 'Website', 'Contacts'])"
   ]
  },
  {
   "cell_type": "code",
   "execution_count": 28,
   "metadata": {},
   "outputs": [],
   "source": [
    "#The name in the parenthesis is what you want the exported file to be called. Each time you use this make sure to call it something new\n",
    "\n",
    "info.to_excel('Info_Grabber_Test.xlsx')"
   ]
  },
  {
   "cell_type": "code",
   "execution_count": null,
   "metadata": {},
   "outputs": [],
   "source": []
  }
 ],
 "metadata": {
  "kernelspec": {
   "display_name": "Python 3",
   "language": "python",
   "name": "python3"
  },
  "language_info": {
   "codemirror_mode": {
    "name": "ipython",
    "version": 3
   },
   "file_extension": ".py",
   "mimetype": "text/x-python",
   "name": "python",
   "nbconvert_exporter": "python",
   "pygments_lexer": "ipython3",
   "version": "3.8.3"
  }
 },
 "nbformat": 4,
 "nbformat_minor": 4
}
